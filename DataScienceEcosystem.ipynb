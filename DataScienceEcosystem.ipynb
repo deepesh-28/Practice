{
 "cells": [
  {
   "cell_type": "markdown",
   "id": "b0516341-3033-46ab-99c1-a6b5ed214ba1",
   "metadata": {},
   "source": [
    "# Data Science Tools and Ecosystem"
   ]
  },
  {
   "cell_type": "markdown",
   "id": "031a5dd8-e3ce-469d-86ef-409139beba90",
   "metadata": {},
   "source": [
    "#### In this notebook, Data Science Tools and Ecosystem are summarized."
   ]
  },
  {
   "cell_type": "markdown",
   "id": "3309db78-1fc5-465c-b2a9-6319ffed06ca",
   "metadata": {},
   "source": [
    "**Objectives**\n",
    "- List of popular languages for Data Science\n",
    "- List of commonly used libraries for Data Science\n",
    "- List of Data Science tools\n",
    "- Basic arithmetic expressions in Python\n",
    "- Conveting minutes to hours in Python"
   ]
  },
  {
   "cell_type": "markdown",
   "id": "f3a56cdd-247b-4fe3-ba5b-2c1034e233fb",
   "metadata": {},
   "source": [
    "Some of the popular languages that Data Scientists use are:\n",
    "1. SQL\n",
    "2. Python\n",
    "3. R\n",
    "4. Java"
   ]
  },
  {
   "cell_type": "markdown",
   "id": "1a875b88-b25a-4dde-b04c-adf02b899f0f",
   "metadata": {},
   "source": [
    "Some of the commonly used libraries used by Data Scientists include:\n",
    "1. Matplotlib\n",
    "2. Seaborn\n",
    "3. Apache Spark\n",
    "4. TensorFlow"
   ]
  },
  {
   "cell_type": "markdown",
   "id": "4a6a664e-2083-4010-aaa8-320f5c60934f",
   "metadata": {},
   "source": [
    "|Data Science Tools|\n",
    "|------------------|\n",
    "|Jupter Notebook|\n",
    "|R Studio|\n",
    "|GitHub|"
   ]
  },
  {
   "cell_type": "markdown",
   "id": "f239a9a9-e9ea-441c-8e5a-e8e525ade252",
   "metadata": {},
   "source": [
    "### Below are a few examples of evaluating arithmetic expressions in Python"
   ]
  },
  {
   "cell_type": "code",
   "execution_count": 6,
   "id": "d50febf9-605e-456d-8dbc-d6da01d80f33",
   "metadata": {},
   "outputs": [
    {
     "data": {
      "text/plain": [
       "17"
      ]
     },
     "execution_count": 6,
     "metadata": {},
     "output_type": "execute_result"
    }
   ],
   "source": [
    "# This a simple arithmetic expression to multiply then add integers\n",
    "(3*4)+5\n"
   ]
  },
  {
   "cell_type": "code",
   "execution_count": 11,
   "id": "32ef6b59-1645-48b5-a0e7-7c4977d78820",
   "metadata": {},
   "outputs": [
    {
     "name": "stdout",
     "output_type": "stream",
     "text": [
      "200 minutes =  3.3333333333333335  hours\n"
     ]
    }
   ],
   "source": [
    "# This will convert 200 minutes to hours by diving by 60\n",
    "print(\"200 minutes = \",200/60,\" hours\")"
   ]
  },
  {
   "cell_type": "markdown",
   "id": "0676ad4d-75a9-4b4f-887e-4eae80abd71c",
   "metadata": {},
   "source": [
    "## Author\n",
    "Deepesh"
   ]
  }
 ],
 "metadata": {
  "kernelspec": {
   "display_name": "Python 3 (ipykernel)",
   "language": "python",
   "name": "python3"
  },
  "language_info": {
   "codemirror_mode": {
    "name": "ipython",
    "version": 3
   },
   "file_extension": ".py",
   "mimetype": "text/x-python",
   "name": "python",
   "nbconvert_exporter": "python",
   "pygments_lexer": "ipython3",
   "version": "3.13.5"
  }
 },
 "nbformat": 4,
 "nbformat_minor": 5
}
